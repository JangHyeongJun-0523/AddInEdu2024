{
 "cells": [
  {
   "cell_type": "code",
   "execution_count": 1,
   "id": "9169d6b3-da18-4b45-aa6b-723993961f30",
   "metadata": {},
   "outputs": [],
   "source": [
    "from nav2_simple_commander.robot_navigator import BasicNavigator\n",
    "import rclpy\n",
    "\n",
    "rclpy.init()\n",
    "nav = BasicNavigator()"
   ]
  },
  {
   "cell_type": "code",
   "execution_count": 2,
   "id": "cbcce24d-35f9-405e-a901-5292c1180d10",
   "metadata": {},
   "outputs": [
    {
     "name": "stderr",
     "output_type": "stream",
     "text": [
      "[INFO] [1719213448.932228716] [basic_navigator]: Nav2 is ready for use!\n"
     ]
    }
   ],
   "source": [
    "nav.waitUntilNav2Active()"
   ]
  },
  {
   "cell_type": "code",
   "execution_count": 3,
   "id": "6fe64ed4-2449-4b2e-9aee-9228268772af",
   "metadata": {},
   "outputs": [],
   "source": [
    "from geometry_msgs.msg import PoseStamped\n",
    "\n",
    "goal_pose = PoseStamped()\n",
    "goal_pose.header.frame_id = 'map'\n",
    "goal_pose.pose.position.x = 1.77\n",
    "goal_pose.pose.position.y = 0.6\n",
    "goal_pose.pose.position.z = 0.0\n",
    "goal_pose.pose.orientation.x = 0.0\n",
    "goal_pose.pose.orientation.y = 0.0\n",
    "goal_pose.pose.orientation.z = 0.0\n",
    "goal_pose.pose.orientation.w = 1.0"
   ]
  },
  {
   "cell_type": "code",
   "execution_count": 4,
   "id": "0bd53d28-18f0-4e65-b23d-8074fc707d64",
   "metadata": {},
   "outputs": [
    {
     "name": "stderr",
     "output_type": "stream",
     "text": [
      "[INFO] [1719213448.951530378] [basic_navigator]: Navigating to goal: 1.77 0.6...\n"
     ]
    },
    {
     "data": {
      "text/plain": [
       "True"
      ]
     },
     "execution_count": 4,
     "metadata": {},
     "output_type": "execute_result"
    }
   ],
   "source": [
    "nav.goToPose(goal_pose)"
   ]
  },
  {
   "cell_type": "code",
   "execution_count": 5,
   "id": "4ba6e327-d038-4903-bf27-0a5f23dc2bfb",
   "metadata": {},
   "outputs": [
    {
     "name": "stdout",
     "output_type": "stream",
     "text": [
      "Distance remaining1.83meters.\n",
      "Distance remaining1.68meters.\n",
      "Distance remaining1.57meters.\n",
      "Distance remaining1.42meters.\n",
      "Distance remaining1.32meters.\n",
      "Distance remaining1.21meters.\n",
      "Distance remaining1.07meters.\n",
      "Distance remaining0.91meters.\n",
      "Distance remaining0.80meters.\n",
      "Distance remaining0.70meters.\n",
      "Distance remaining0.59meters.\n",
      "Distance remaining0.47meters.\n",
      "Distance remaining0.38meters.\n",
      "Distance remaining0.31meters.\n",
      "Distance remaining0.19meters.\n",
      "Distance remaining0.19meters.\n",
      "Distance remaining0.21meters.\n",
      "Distance remaining0.21meters.\n",
      "Distance remaining0.21meters.\n"
     ]
    }
   ],
   "source": [
    "from rclpy.duration import Duration\n",
    "\n",
    "i = 0\n",
    "while not nav.isTaskComplete():\n",
    "    i = i + 1\n",
    "    feedback = nav.getFeedback()\n",
    "    if feedback and i % 5 == 0:\n",
    "        print('Distance remaining' + '{:.2f}'.format(\n",
    "            feedback.distance_remaining) + 'meters.')\n",
    "\n",
    "    if Duration.from_msg(feedback.navigation_time) > Duration(seconds=10.0):\n",
    "        nav.cancelTack()"
   ]
  },
  {
   "cell_type": "code",
   "execution_count": 6,
   "id": "ee443cdc-b7cd-4de8-a8c8-f0266e90c70b",
   "metadata": {},
   "outputs": [
    {
     "name": "stdout",
     "output_type": "stream",
     "text": [
      "Goal succeeded!\n"
     ]
    }
   ],
   "source": [
    "from nav2_simple_commander.robot_navigator import TaskResult\n",
    "\n",
    "result = nav.getResult()\n",
    "if result == TaskResult.SUCCEEDED:\n",
    "    print('Goal succeeded!')\n",
    "elif result == TaskResult.CANCELED:\n",
    "    print('Goal was canceled!')\n",
    "elif result == TaskResult.FAILED:\n",
    "    print('Goal failed!')"
   ]
  },
  {
   "cell_type": "code",
   "execution_count": 7,
   "id": "5600a913-decb-45e5-9660-6e0221d38a80",
   "metadata": {},
   "outputs": [
    {
     "data": {
      "text/plain": [
       "geometry_msgs.msg.PoseWithCovarianceStamped(header=std_msgs.msg.Header(stamp=builtin_interfaces.msg.Time(sec=0, nanosec=0), frame_id=''), pose=geometry_msgs.msg.PoseWithCovariance(pose=geometry_msgs.msg.Pose(position=geometry_msgs.msg.Point(x=0.0, y=0.0, z=0.0), orientation=geometry_msgs.msg.Quaternion(x=0.0, y=0.0, z=0.0, w=1.0)), covariance=array([0., 0., 0., 0., 0., 0., 0., 0., 0., 0., 0., 0., 0., 0., 0., 0., 0.,\n",
       "       0., 0., 0., 0., 0., 0., 0., 0., 0., 0., 0., 0., 0., 0., 0., 0., 0.,\n",
       "       0., 0.])))"
      ]
     },
     "execution_count": 7,
     "metadata": {},
     "output_type": "execute_result"
    }
   ],
   "source": [
    "import rclpy\n",
    "from geometry_msgs.msg import PoseWithCovarianceStamped\n",
    "\n",
    "rclpy.shutdown() \n",
    "rclpy.init()\n",
    "pose_current = PoseWithCovarianceStamped()\n",
    "pose_current"
   ]
  },
  {
   "cell_type": "code",
   "execution_count": 8,
   "id": "d560da68-3ff6-4e36-a9b8-bdf1c33c0478",
   "metadata": {},
   "outputs": [
    {
     "data": {
      "text/plain": [
       "geometry_msgs.msg.Point(x=0.0, y=0.0, z=0.0)"
      ]
     },
     "execution_count": 8,
     "metadata": {},
     "output_type": "execute_result"
    }
   ],
   "source": [
    "pose_current.pose.pose.position"
   ]
  },
  {
   "cell_type": "code",
   "execution_count": 9,
   "id": "eb289f4b-fc99-46a5-b5b8-3c235f9a6248",
   "metadata": {},
   "outputs": [
    {
     "data": {
      "text/plain": [
       "geometry_msgs.msg.Quaternion(x=0.0, y=0.0, z=0.0, w=1.0)"
      ]
     },
     "execution_count": 9,
     "metadata": {},
     "output_type": "execute_result"
    }
   ],
   "source": [
    "pose_current.pose.pose.orientation"
   ]
  }
 ],
 "metadata": {
  "kernelspec": {
   "display_name": "Python 3 (ipykernel)",
   "language": "python",
   "name": "python3"
  },
  "language_info": {
   "codemirror_mode": {
    "name": "ipython",
    "version": 3
   },
   "file_extension": ".py",
   "mimetype": "text/x-python",
   "name": "python",
   "nbconvert_exporter": "python",
   "pygments_lexer": "ipython3",
   "version": "3.10.12"
  }
 },
 "nbformat": 4,
 "nbformat_minor": 5
}
